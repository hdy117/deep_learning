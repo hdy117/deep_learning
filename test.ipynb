{
 "cells": [
  {
   "cell_type": "code",
   "execution_count": 2,
   "metadata": {},
   "outputs": [
    {
     "name": "stdout",
     "output_type": "stream",
     "text": [
      "bingo 99\n",
      "bingo 199\n",
      "bingo 299\n",
      "bingo 399\n",
      "bingo 499\n",
      "bingo 599\n",
      "bingo 699\n",
      "bingo 799\n",
      "bingo 899\n",
      "bingo 999\n"
     ]
    }
   ],
   "source": [
    "for i in range(1000):\n",
    "    if (i+1)%100==0:\n",
    "        print(f'bingo {i}')"
   ]
  }
 ],
 "metadata": {
  "kernelspec": {
   "display_name": "Python 3",
   "language": "python",
   "name": "python3"
  },
  "language_info": {
   "codemirror_mode": {
    "name": "ipython",
    "version": 3
   },
   "file_extension": ".py",
   "mimetype": "text/x-python",
   "name": "python",
   "nbconvert_exporter": "python",
   "pygments_lexer": "ipython3",
   "version": "3.12.5"
  }
 },
 "nbformat": 4,
 "nbformat_minor": 2
}
